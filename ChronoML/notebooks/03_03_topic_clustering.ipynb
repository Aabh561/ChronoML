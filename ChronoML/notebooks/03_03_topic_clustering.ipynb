{
  "cells": [
    {
      "cell_type": "markdown",
      "metadata": {},
      "source": [
        "# 03 Topic Clustering"
      ]
    },
    {
      "cell_type": "code",
      "metadata": {},
      "execution_count": null,
      "outputs": [],
      "source": [
        "!pip install gensim pandas nltk matplotlib",
        "",
        "import pandas as pd",
        "import gensim",
        "from gensim import corpora",
        "from nltk.corpus import stopwords",
        "from nltk.tokenize import word_tokenize",
        "import nltk",
        "import matplotlib.pyplot as plt",
        "",
        "nltk.download('punkt')",
        "nltk.download('stopwords')",
        "",
        "df = pd.read_csv(\"../data/raw/arxiv_papers.csv\")",
        "stop_words = set(stopwords.words(\"english\"))",
        "",
        "texts = [",
        "    [word for word in word_tokenize(doc.lower()) if word.isalpha() and word not in stop_words]",
        "    for doc in df[\"summary\"]",
        "]",
        "",
        "dictionary = corpora.Dictionary(texts)",
        "corpus = [dictionary.doc2bow(text) for text in texts]",
        "",
        "lda_model = gensim.models.LdaModel(corpus, num_topics=5, id2word=dictionary, passes=15)",
        "",
        "topics = lda_model.print_topics(num_words=5)",
        "for topic in topics:",
        "    print(topic)"
      ]
    }
  ],
  "metadata": {
    "kernelspec": {
      "display_name": "Python 3",
      "language": "python",
      "name": "python3"
    },
    "language_info": {
      "name": "python",
      "version": "3.8"
    }
  },
  "nbformat": 4,
  "nbformat_minor": 5
}