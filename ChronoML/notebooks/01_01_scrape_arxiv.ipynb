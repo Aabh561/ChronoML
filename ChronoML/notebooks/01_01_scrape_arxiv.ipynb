{
  "cells": [
    {
      "cell_type": "markdown",
      "metadata": {},
      "source": [
        "# 01 Scrape Arxiv"
      ]
    },
    {
      "cell_type": "code",
      "metadata": {},
      "execution_count": null,
      "outputs": [],
      "source": [
        "import os",
        "os.makedirs(\"../data/raw\", exist_ok=True)",
        "",
        "!pip install arxiv pandas tqdm",
        "",
        "import arxiv",
        "import pandas as pd",
        "from tqdm import tqdm",
        "",
        "def scrape_arxiv(query=\"machine learning\", max_results=100):",
        "    papers = []",
        "    search = arxiv.Search(",
        "        query=query,",
        "        max_results=max_results,",
        "        sort_by=arxiv.SortCriterion.SubmittedDate",
        "    )",
        "",
        "    for result in tqdm(search.results()):",
        "        paper = {",
        "            \"title\": result.title,",
        "            \"authors\": [author.name for author in result.authors],",
        "            \"published\": result.published.strftime('%Y-%m-%d'),",
        "            \"summary\": result.summary.replace(\"\\n\", \" \"),",
        "            \"url\": result.entry_id",
        "        }",
        "        papers.append(paper)",
        "",
        "    return pd.DataFrame(papers)",
        "",
        "query = \"machine learning AND deep learning\"",
        "df = scrape_arxiv(query=query, max_results=100)",
        "df.to_csv(\"../data/raw/arxiv_papers.csv\", index=False)",
        "print(\"Saved to ../data/raw/arxiv_papers.csv\")"
      ]
    }
  ],
  "metadata": {
    "kernelspec": {
      "display_name": "Python 3",
      "language": "python",
      "name": "python3"
    },
    "language_info": {
      "name": "python",
      "version": "3.8"
    }
  },
  "nbformat": 4,
  "nbformat_minor": 5
}