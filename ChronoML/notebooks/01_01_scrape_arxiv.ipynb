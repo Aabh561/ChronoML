{
  "cells": [
    {
      "cell_type": "markdown",
      "metadata": {},
      "source": [
        "# 01 Scrape Arxiv"
      ]
    },
    {
      "cell_type": "code",
      "execution_count": 5,
      "metadata": {},
      "outputs": [
        {
          "name": "stderr",
          "output_type": "stream",
          "text": [
            "C:\\Users\\Aabharan\\AppData\\Local\\Temp\\ipykernel_5492\\3229317814.py:17: DeprecationWarning: The 'Search.results' method is deprecated, use 'Client.results' instead\n",
            "  for result in tqdm(search.results()):\n",
            "100it [00:00, 696.93it/s]"
          ]
        },
        {
          "name": "stdout",
          "output_type": "stream",
          "text": [
            "Saved to ../data/raw/arxiv_papers.csv\n"
          ]
        },
        {
          "name": "stderr",
          "output_type": "stream",
          "text": [
            "\n"
          ]
        }
      ],
      "source": [
        "import os\n",
        "os.makedirs(\"../data/raw\", exist_ok=True)\n",
        "\n",
        "\n",
        "import arxiv\n",
        "import pandas as pd\n",
        "from tqdm import tqdm\n",
        "\n",
        "def scrape_arxiv(query=\"machine learning\", max_results=100):\n",
        "    papers = []\n",
        "    search = arxiv.Search(\n",
        "        query=query,\n",
        "        max_results=max_results,\n",
        "        sort_by=arxiv.SortCriterion.SubmittedDate\n",
        "    )\n",
        "\n",
        "    for result in tqdm(search.results()):\n",
        "        paper = {\n",
        "            \"title\": result.title,\n",
        "            \"authors\": [author.name for author in result.authors],\n",
        "            \"published\": result.published.strftime('%Y-%m-%d'),\n",
        "            \"summary\": result.summary.replace(\"\\n\", \" \"),\n",
        "            \"url\": result.entry_id\n",
        "        }\n",
        "        papers.append(paper)\n",
        "\n",
        "    return pd.DataFrame(papers)\n",
        "\n",
        "query = \"machine learning AND deep learning\"\n",
        "df = scrape_arxiv(query=query, max_results=100)\n",
        "df.to_csv(\"../data/raw/arxiv_papers.csv\", index=False)\n",
        "print(\"Saved to ../data/raw/arxiv_papers.csv\")"
      ]
    }
  ],
  "metadata": {
    "kernelspec": {
      "display_name": "base",
      "language": "python",
      "name": "python3"
    },
    "language_info": {
      "codemirror_mode": {
        "name": "ipython",
        "version": 3
      },
      "file_extension": ".py",
      "mimetype": "text/x-python",
      "name": "python",
      "nbconvert_exporter": "python",
      "pygments_lexer": "ipython3",
      "version": "3.12.4"
    }
  },
  "nbformat": 4,
  "nbformat_minor": 5
}
