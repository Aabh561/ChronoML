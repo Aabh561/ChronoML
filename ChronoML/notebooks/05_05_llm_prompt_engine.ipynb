{
  "cells": [
    {
      "cell_type": "markdown",
      "metadata": {},
      "source": [
        "# 05 Llm Prompt Engine"
      ]
    },
    {
      "cell_type": "code",
      "metadata": {},
      "execution_count": null,
      "outputs": [],
      "source": [
        "!pip install sentence-transformers pandas scikit-learn",
        "",
        "import pandas as pd",
        "from sentence_transformers import SentenceTransformer",
        "from sklearn.metrics.pairwise import cosine_similarity",
        "import os",
        "",
        "os.makedirs(\"../data/raw\", exist_ok=True)",
        "",
        "df = pd.read_csv(\"../data/raw/arxiv_papers.csv\")",
        "model = SentenceTransformer('all-MiniLM-L6-v2')",
        "",
        "summaries = df['summary'].tolist()",
        "embeddings = model.encode(summaries, show_progress_bar=True)",
        "",
        "query = \"What will be the next big innovation in AI?\"",
        "query_embedding = model.encode([query])",
        "",
        "sims = cosine_similarity(query_embedding, embeddings)[0]",
        "top_idx = sims.argsort()[-5:][::-1]",
        "",
        "print(\"Top related ideas:\\n\")",
        "for i in top_idx:",
        "    print(f\"- {df.iloc[i]['title']} ({df.iloc[i]['published']})\")",
        "    print(f\"  {df.iloc[i]['summary'][:300]}...\\n\")"
      ]
    }
  ],
  "metadata": {
    "kernelspec": {
      "display_name": "Python 3",
      "language": "python",
      "name": "python3"
    },
    "language_info": {
      "name": "python",
      "version": "3.8"
    }
  },
  "nbformat": 4,
  "nbformat_minor": 5
}