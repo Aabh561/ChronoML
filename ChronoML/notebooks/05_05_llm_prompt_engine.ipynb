{
  "cells": [
    {
      "cell_type": "markdown",
      "metadata": {},
      "source": [
        "# 05 Llm Prompt Engine"
      ]
    },
    {
      "cell_type": "code",
      "execution_count": 5,
      "metadata": {},
      "outputs": [
        {
          "data": {
            "application/vnd.jupyter.widget-view+json": {
              "model_id": "7a8381cb5fe74f71bd028a7e811b1252",
              "version_major": 2,
              "version_minor": 0
            },
            "text/plain": [
              "Batches:   0%|          | 0/4 [00:00<?, ?it/s]"
            ]
          },
          "metadata": {},
          "output_type": "display_data"
        },
        {
          "name": "stdout",
          "output_type": "stream",
          "text": [
            "Top related ideas:\n",
            "\n",
            "- Integrating Traditional Technical Analysis with AI: A Multi-Agent LLM-Based Approach to Stock Market Forecasting (2025-06-20)\n",
            "  Traditional technical analysis methods face limitations in accurately predicting trends in today's complex financial markets. This paper introduces ElliottAgents, an multi-agent system that integrates the Elliott Wave Principle with AI for stock market forecasting. The inherent complexity of financi...\n",
            "\n",
            "- Unifying VXAI: A Systematic Review and Framework for the Evaluation of Explainable AI (2025-06-18)\n",
            "  Modern AI systems frequently rely on opaque black-box models, most notably Deep Neural Networks, whose performance stems from complex architectures with millions of learned parameters. While powerful, their complexity poses a major challenge to trustworthiness, particularly due to a lack of transpar...\n",
            "\n",
            "- Stable Gradients for Stable Learning at Scale in Deep Reinforcement Learning (2025-06-18)\n",
            "  Scaling deep reinforcement learning networks is challenging and often results in degraded performance, yet the root causes of this failure mode remain poorly understood. Several recent works have proposed mechanisms to address this, but they are often complex and fail to highlight the causes underly...\n",
            "\n",
            "- One Period to Rule Them All: Identifying Critical Learning Periods in Deep Networks (2025-06-19)\n",
            "  Critical Learning Periods comprehend an important phenomenon involving deep learning, where early epochs play a decisive role in the success of many training recipes, such as data augmentation. Existing works confirm the existence of this phenomenon and provide useful insights. However, the literatu...\n",
            "\n",
            "- Heterogeneous Federated Reinforcement Learning Using Wasserstein Barycenters (2025-06-18)\n",
            "  In this paper, we first propose a novel algorithm for model fusion that leverages Wasserstein barycenters in training a global Deep Neural Network (DNN) in a distributed architecture. To this end, we divide the dataset into equal parts that are fed to \"agents\" who have identical deep neural networks...\n",
            "\n"
          ]
        }
      ],
      "source": [
        "\n",
        "\n",
        "\n",
        "import pandas as pd\n",
        "from sentence_transformers import SentenceTransformer\n",
        "from sklearn.metrics.pairwise import cosine_similarity\n",
        "import os\n",
        "\n",
        "os.makedirs(\"../data/raw\", exist_ok=True)\n",
        "\n",
        "df = pd.read_csv(\"../data/raw/arxiv_papers.csv\")\n",
        "model = SentenceTransformer('all-MiniLM-L6-v2')\n",
        "\n",
        "summaries = df['summary'].tolist()\n",
        "embeddings = model.encode(summaries, show_progress_bar=True)\n",
        "\n",
        "query = \"What will be the next big innovation in AI?\"\n",
        "query_embedding = model.encode([query])\n",
        "\n",
        "sims = cosine_similarity(query_embedding, embeddings)[0]\n",
        "top_idx = sims.argsort()[-5:][::-1]\n",
        "\n",
        "print(\"Top related ideas:\\n\")\n",
        "for i in top_idx:\n",
        "    print(f\"- {df.iloc[i]['title']} ({df.iloc[i]['published']})\")\n",
        "    print(f\"  {df.iloc[i]['summary'][:300]}...\\n\")"
      ]
    }
  ],
  "metadata": {
    "kernelspec": {
      "display_name": "base",
      "language": "python",
      "name": "python3"
    },
    "language_info": {
      "codemirror_mode": {
        "name": "ipython",
        "version": 3
      },
      "file_extension": ".py",
      "mimetype": "text/x-python",
      "name": "python",
      "nbconvert_exporter": "python",
      "pygments_lexer": "ipython3",
      "version": "3.12.4"
    }
  },
  "nbformat": 4,
  "nbformat_minor": 5
}
