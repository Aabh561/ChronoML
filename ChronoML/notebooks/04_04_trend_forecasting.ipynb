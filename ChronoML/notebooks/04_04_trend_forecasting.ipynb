{
  "cells": [
    {
      "cell_type": "markdown",
      "metadata": {},
      "source": [
        "# 04 Trend Forecasting"
      ]
    },
    {
      "cell_type": "code",
      "metadata": {},
      "execution_count": null,
      "outputs": [],
      "source": [
        "!pip install pandas matplotlib scikit-learn",
        "",
        "import pandas as pd",
        "import matplotlib.pyplot as plt",
        "from sklearn.linear_model import LinearRegression",
        "import numpy as np",
        "import os",
        "",
        "os.makedirs(\"../data/raw\", exist_ok=True)",
        "",
        "df = pd.read_csv(\"../data/raw/arxiv_papers.csv\")",
        "df['published'] = pd.to_datetime(df['published'])",
        "df['year'] = df['published'].dt.year",
        "",
        "keyword = \"transformer\"",
        "df['has_keyword'] = df['summary'].str.lower().str.contains(keyword)",
        "",
        "trend = df.groupby('year')['has_keyword'].sum().reset_index()",
        "",
        "X = trend['year'].values.reshape(-1, 1)",
        "y = trend['has_keyword'].values",
        "",
        "model = LinearRegression()",
        "model.fit(X, y)",
        "",
        "future_years = np.arange(2025, 2031).reshape(-1, 1)",
        "future_preds = model.predict(future_years)",
        "",
        "plt.plot(trend['year'], trend['has_keyword'], label='Actual')",
        "plt.plot(future_years, future_preds, label='Forecast', linestyle='--')",
        "plt.xlabel(\"Year\")",
        "plt.ylabel(f\"Mentions of '{keyword}'\")",
        "plt.title(\"Keyword Trend Forecasting\")",
        "plt.legend()",
        "plt.grid(True)",
        "plt.show()"
      ]
    }
  ],
  "metadata": {
    "kernelspec": {
      "display_name": "Python 3",
      "language": "python",
      "name": "python3"
    },
    "language_info": {
      "name": "python",
      "version": "3.8"
    }
  },
  "nbformat": 4,
  "nbformat_minor": 5
}